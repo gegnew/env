{
 "cells": [
  {
   "cell_type": "markdown",
   "metadata": {},
   "source": [
    "## NWP Monod Kinetic Model\n",
    "This notebook calculates Monod half-saturation constants for oxygen removal on a coal substrate in \n",
    "the ___________ batch respirometry tests at Enviromin, Inc. in Bozeman, MT.\n",
    "Copyright Enviromin, Inc. 2019"
   ]
  },
  {
   "cell_type": "code",
   "execution_count": 3,
   "metadata": {},
   "outputs": [],
   "source": [
    "import pandas as pd\n",
    "import numpy as np\n",
    "import xlrd\n",
    "import matplotlib.pyplot as plt\n",
    "import seaborn as sns; sns.set()\n",
    "import lmfit\n",
    "from scipy.optimize import curve_fit\n",
    "from scipy.integrate import odeint\n",
    "from scipy.integrate import solve_ivp\n",
    "from datetime import datetime\n",
    "# from sklearn import linear_model"
   ]
  },
  {
   "cell_type": "code",
   "execution_count": 190,
   "metadata": {},
   "outputs": [],
   "source": [
    "# import data\n",
    "nit = pd.read_excel('/home/g/Dropbox (Enviromin)/All/Shared/Projects/NWP Coal Canada/Respirometry/Respirometry Work.xlsx', sheet_name='Computer read file')"
   ]
  },
  {
   "cell_type": "code",
   "execution_count": 191,
   "metadata": {},
   "outputs": [],
   "source": [
    "# fiddle with data so it looks right\n",
    "# We want it to be terms of initial velocity and concentration\n",
    "# (here in %O2/time and % substrate, which is maybe invalid)\n",
    "# and if you have different temperatures, those as well\n",
    "df = nit[['conc', 'V']]\n",
    "df = df.reset_index()\n",
    "df.columns = ['Temp', 'C', 'Vo']"
   ]
  },
  {
   "cell_type": "code",
   "execution_count": 193,
   "metadata": {},
   "outputs": [],
   "source": [
    "\"\"\"\n",
    "Data we want to fit:\n",
    "xdata, ydata\"\"\"\n",
    "# df = df[df.Temp==10]\n",
    "xdata = df['C']\n",
    "ydata = df['Vo']\n",
    "\n",
    "def monod_contin(S, mmax, Ks):\n",
    "    mu = (mmax*S)/(Ks+S) # returns mu\n",
    "    return(mu)"
   ]
  },
  {
   "cell_type": "code",
   "execution_count": 194,
   "metadata": {},
   "outputs": [],
   "source": [
    "idx = df.Temp.unique()\n",
    "plotresults = pd.DataFrame()\n",
    "predresults = pd.DataFrame()\n",
    "results = pd.DataFrame()\n",
    "pred = pd.DataFrame()\n",
    "res = pd.DataFrame()\n",
    "foo = pd.DataFrame()\n",
    "\n",
    "a = pd.DataFrame()\n",
    "\n",
    "for i in range(len(idx)):\n",
    "    data = df[df.Temp==idx[i]].reset_index(drop=True)\n",
    "    \n",
    "    xdata = data['C']\n",
    "    ydata = data['Vo']\n",
    "    params, pcov = curve_fit(monod_contin, xdata, ydata)\n",
    "\n",
    "    mufit = np.linspace(0,xdata.iloc[-1])\n",
    "    fit = monod_contin(mufit, params[0], params[1])\n",
    "    \n",
    "    foo['C'] = xdata\n",
    "    foo['Vo'] = ydata\n",
    "    foo['Index'] = idx[i]\n",
    "    foo['mmax'] = params[0]\n",
    "    foo['Ks'] = params[1]\n",
    "    \n",
    "    pred['C'] = mufit\n",
    "    pred['Vo'] = fit\n",
    "    pred['Index'] = idx[i]\n",
    "    pred['mmax'] = params[0]\n",
    "    pred['Ks'] = params[1]\n",
    "    \n",
    "    plotresults = plotresults.append(foo)\n",
    "    predresults = predresults.append(pred)\n",
    "    results = results.append(res)\n",
    "    \n",
    "    "
   ]
  },
  {
   "cell_type": "code",
   "execution_count": 197,
   "metadata": {},
   "outputs": [
    {
     "data": {
      "text/plain": [
       "<matplotlib.axes._subplots.AxesSubplot at 0x7fabd28cb3c8>"
      ]
     },
     "execution_count": 197,
     "metadata": {},
     "output_type": "execute_result"
    },
    {
     "data": {
      "image/png": "[encoded data removed]",
      "text/plain": [
       "<Figure size 432x288 with 1 Axes>"
      ]
     },
     "metadata": {},
     "output_type": "display_data"
    }
   ],
   "source": [
    "sns.scatterplot(x=xdata, y=ydata)\n",
    "# plotpred = pred.reset_index()\n",
    "sns.lineplot(data=predresults, x='C', y='Vo', style='Index')\n",
    "sns.scatterplot(x='C', y='Vo', data=plotresults, style='Index')"
   ]
  },
  {
   "cell_type": "code",
   "execution_count": 203,
   "metadata": {},
   "outputs": [],
   "source": [
    "predresults[predresults.Index==10].to_csv('predicted_o2.csv')"
   ]
  },
  {
   "cell_type": "code",
   "execution_count": 202,
   "metadata": {},
   "outputs": [
    {
     "data": {
      "text/plain": [
       "'/home/g/Desktop/Enviromin/_NWP'"
      ]
     },
     "execution_count": 202,
     "metadata": {},
     "output_type": "execute_result"
    }
   ],
   "source": [
    "pwd"
   ]
  },
  {
   "cell_type": "code",
   "execution_count": null,
   "metadata": {},
   "outputs": [],
   "source": []
  }
 ],
 "metadata": {
  "kernelspec": {
   "display_name": "Python 3",
   "language": "python",
   "name": "python3"
  },
  "language_info": {
   "codemirror_mode": {
    "name": "ipython",
    "version": 3
   },
   "file_extension": ".py",
   "mimetype": "text/x-python",
   "name": "python",
   "nbconvert_exporter": "python",
   "pygments_lexer": "ipython3",
   "version": "3.7.2"
  }
 },
 "nbformat": 4,
 "nbformat_minor": 2
}
